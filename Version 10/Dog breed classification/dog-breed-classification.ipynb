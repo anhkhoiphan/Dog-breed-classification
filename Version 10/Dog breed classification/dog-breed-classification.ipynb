{
 "cells": [
  {
   "cell_type": "code",
   "execution_count": 1,
   "id": "43c88068",
   "metadata": {
    "_cell_guid": "b1076dfc-b9ad-4769-8c92-a6c4dae69d19",
    "_uuid": "8f2839f25d086af736a60e9eeb907d3b93b6e0e5",
    "execution": {
     "iopub.execute_input": "2024-09-29T16:56:28.593644Z",
     "iopub.status.busy": "2024-09-29T16:56:28.593015Z",
     "iopub.status.idle": "2024-09-29T16:56:42.479431Z",
     "shell.execute_reply": "2024-09-29T16:56:42.478618Z"
    },
    "papermill": {
     "duration": 13.895422,
     "end_time": "2024-09-29T16:56:42.481741",
     "exception": false,
     "start_time": "2024-09-29T16:56:28.586319",
     "status": "completed"
    },
    "tags": []
   },
   "outputs": [],
   "source": [
    "import numpy as np \n",
    "import pandas as pd \n",
    "import tensorflow as tf\n",
    "from tensorflow.keras.applications import VGG16, Xception\n",
    "from tensorflow.keras.models import Model\n",
    "from tensorflow.keras.layers import Dense, GlobalAveragePooling2D, Dropout, Input\n",
    "from tensorflow.keras.callbacks import ModelCheckpoint, EarlyStopping, ReduceLROnPlateau\n",
    "from tensorflow.keras.optimizers import Adam\n",
    "from tensorflow.keras.preprocessing.image import ImageDataGenerator\n",
    "from sklearn.model_selection import train_test_split"
   ]
  },
  {
   "cell_type": "code",
   "execution_count": 2,
   "id": "be2f5262",
   "metadata": {
    "execution": {
     "iopub.execute_input": "2024-09-29T16:56:42.493643Z",
     "iopub.status.busy": "2024-09-29T16:56:42.492728Z",
     "iopub.status.idle": "2024-09-29T16:56:42.524428Z",
     "shell.execute_reply": "2024-09-29T16:56:42.523662Z"
    },
    "papermill": {
     "duration": 0.039445,
     "end_time": "2024-09-29T16:56:42.526389",
     "exception": false,
     "start_time": "2024-09-29T16:56:42.486944",
     "status": "completed"
    },
    "tags": []
   },
   "outputs": [],
   "source": [
    "train_dir = '/kaggle/input/dl-63-cw-image-classification/train'\n",
    "test_dir = '/kaggle/input/dl-63-cw-image-classification/test'\n",
    "train_csv = '/kaggle/input/dl-63-cw-image-classification/train.csv'\n",
    "test_csv = '/kaggle/input/dl-63-cw-image-classification/test.csv'\n",
    "\n",
    "train_df = pd.read_csv(train_csv)\n",
    "test_df = pd.read_csv(test_csv)"
   ]
  },
  {
   "cell_type": "code",
   "execution_count": 3,
   "id": "19a3be33",
   "metadata": {
    "execution": {
     "iopub.execute_input": "2024-09-29T16:56:42.537492Z",
     "iopub.status.busy": "2024-09-29T16:56:42.537215Z",
     "iopub.status.idle": "2024-09-29T16:56:56.725704Z",
     "shell.execute_reply": "2024-09-29T16:56:56.724985Z"
    },
    "papermill": {
     "duration": 14.196414,
     "end_time": "2024-09-29T16:56:56.727721",
     "exception": false,
     "start_time": "2024-09-29T16:56:42.531307",
     "status": "completed"
    },
    "tags": []
   },
   "outputs": [
    {
     "name": "stdout",
     "output_type": "stream",
     "text": [
      "Found 6356 validated image filenames belonging to 70 classes.\n",
      "Found 1590 validated image filenames belonging to 70 classes.\n",
      "Found 1400 validated image filenames.\n"
     ]
    }
   ],
   "source": [
    "train_df, val_df = train_test_split(train_df, test_size=0.2, stratify=train_df['class'], random_state=42)\n",
    "\n",
    "from tensorflow.keras.preprocessing.image import ImageDataGenerator\n",
    "\n",
    "# Define the image size and batch size\n",
    "img_size = (224, 224)  # Resized \n",
    "batch_size = 32\n",
    "\n",
    "# Create an instance of ImageDataGenerator for training with random augmentations\n",
    "train_datagen = ImageDataGenerator(\n",
    "    rescale=1./255,            # Normalize pixel values to [0, 1]\n",
    "    rotation_range=20,         # Randomly rotate images by up to 40 degrees\n",
    "    width_shift_range=0.2,     # Randomly translate images horizontally\n",
    "    height_shift_range=0.2,    # Randomly translate images vertically\n",
    "    shear_range=0.2,           # Randomly apply shearing transformations\n",
    "    zoom_range=0.2,            # Randomly zoom into images\n",
    "    horizontal_flip=True,      # Randomly flip images horizontally\n",
    "    fill_mode='nearest',        # Fill new pixels that may appear after transformations\n",
    "    brightness_range=[0.8, 1.2],  # Randomly adjust brightness\n",
    ")\n",
    "\n",
    "# Create an instance of ImageDataGenerator for validation (without augmentation)\n",
    "val_datagen = ImageDataGenerator(rescale=1./255)\n",
    "\n",
    "# Set up the training data generator\n",
    "train_generator = train_datagen.flow_from_dataframe(\n",
    "    train_df,\n",
    "    directory=train_dir,\n",
    "    x_col='filepaths',\n",
    "    y_col='class',\n",
    "    target_size=img_size,\n",
    "    batch_size=batch_size,\n",
    "    class_mode='categorical'\n",
    ")\n",
    "\n",
    "# Set up the validation data generator\n",
    "val_generator = val_datagen.flow_from_dataframe(\n",
    "    val_df,\n",
    "    directory=train_dir,\n",
    "    x_col='filepaths',\n",
    "    y_col='class',\n",
    "    target_size=img_size,\n",
    "    batch_size=batch_size,\n",
    "    class_mode='categorical'\n",
    ")\n",
    "\n",
    "# Set up the test data generator (without augmentation)\n",
    "test_generator = val_datagen.flow_from_dataframe(\n",
    "    test_df,\n",
    "    directory=test_dir,\n",
    "    x_col='filepaths',\n",
    "    y_col=None, \n",
    "    target_size=img_size,\n",
    "    batch_size=batch_size,\n",
    "    class_mode=None,\n",
    "    shuffle=False\n",
    ")\n"
   ]
  },
  {
   "cell_type": "code",
   "execution_count": 4,
   "id": "19912cd5",
   "metadata": {
    "execution": {
     "iopub.execute_input": "2024-09-29T16:56:56.739043Z",
     "iopub.status.busy": "2024-09-29T16:56:56.738724Z",
     "iopub.status.idle": "2024-09-29T16:56:56.742558Z",
     "shell.execute_reply": "2024-09-29T16:56:56.741717Z"
    },
    "papermill": {
     "duration": 0.011547,
     "end_time": "2024-09-29T16:56:56.744421",
     "exception": false,
     "start_time": "2024-09-29T16:56:56.732874",
     "status": "completed"
    },
    "tags": []
   },
   "outputs": [],
   "source": [
    "# input_tensor = Input(shape=(224, 224, 3))\n",
    "# base_model = Xception(weights='imagenet', include_top=False, input_tensor=input_tensor)\n",
    "\n",
    "# for layer in base_model.layers[:-20]:  \n",
    "#     layer.trainable = False"
   ]
  },
  {
   "cell_type": "code",
   "execution_count": 5,
   "id": "7046fd4a",
   "metadata": {
    "execution": {
     "iopub.execute_input": "2024-09-29T16:56:56.756051Z",
     "iopub.status.busy": "2024-09-29T16:56:56.755733Z",
     "iopub.status.idle": "2024-09-29T16:56:59.733688Z",
     "shell.execute_reply": "2024-09-29T16:56:59.732739Z"
    },
    "papermill": {
     "duration": 2.985703,
     "end_time": "2024-09-29T16:56:59.735529",
     "exception": false,
     "start_time": "2024-09-29T16:56:56.749826",
     "status": "completed"
    },
    "tags": []
   },
   "outputs": [
    {
     "name": "stdout",
     "output_type": "stream",
     "text": [
      "Downloading data from https://storage.googleapis.com/tensorflow/keras-applications/vgg16/vgg16_weights_tf_dim_ordering_tf_kernels_notop.h5\n",
      "\u001b[1m58889256/58889256\u001b[0m \u001b[32m━━━━━━━━━━━━━━━━━━━━\u001b[0m\u001b[37m\u001b[0m \u001b[1m0s\u001b[0m 0us/step\n",
      "Downloading data from https://storage.googleapis.com/tensorflow/keras-applications/xception/xception_weights_tf_dim_ordering_tf_kernels_notop.h5\n",
      "\u001b[1m83683744/83683744\u001b[0m \u001b[32m━━━━━━━━━━━━━━━━━━━━\u001b[0m\u001b[37m\u001b[0m \u001b[1m0s\u001b[0m 0us/step\n"
     ]
    },
    {
     "data": {
      "text/html": [
       "<pre style=\"white-space:pre;overflow-x:auto;line-height:normal;font-family:Menlo,'DejaVu Sans Mono',consolas,'Courier New',monospace\"><span style=\"font-weight: bold\">Model: \"functional_1\"</span>\n",
       "</pre>\n"
      ],
      "text/plain": [
       "\u001b[1mModel: \"functional_1\"\u001b[0m\n"
      ]
     },
     "metadata": {},
     "output_type": "display_data"
    },
    {
     "data": {
      "text/html": [
       "<pre style=\"white-space:pre;overflow-x:auto;line-height:normal;font-family:Menlo,'DejaVu Sans Mono',consolas,'Courier New',monospace\">┏━━━━━━━━━━━━━━━━━━━━━┳━━━━━━━━━━━━━━━━━━━┳━━━━━━━━━━━━┳━━━━━━━━━━━━━━━━━━━┓\n",
       "┃<span style=\"font-weight: bold\"> Layer (type)        </span>┃<span style=\"font-weight: bold\"> Output Shape      </span>┃<span style=\"font-weight: bold\">    Param # </span>┃<span style=\"font-weight: bold\"> Connected to      </span>┃\n",
       "┡━━━━━━━━━━━━━━━━━━━━━╇━━━━━━━━━━━━━━━━━━━╇━━━━━━━━━━━━╇━━━━━━━━━━━━━━━━━━━┩\n",
       "│ input_layer_2       │ (<span style=\"color: #00d7ff; text-decoration-color: #00d7ff\">None</span>, <span style=\"color: #00af00; text-decoration-color: #00af00\">224</span>, <span style=\"color: #00af00; text-decoration-color: #00af00\">224</span>,  │          <span style=\"color: #00af00; text-decoration-color: #00af00\">0</span> │ -                 │\n",
       "│ (<span style=\"color: #0087ff; text-decoration-color: #0087ff\">InputLayer</span>)        │ <span style=\"color: #00af00; text-decoration-color: #00af00\">3</span>)                │            │                   │\n",
       "├─────────────────────┼───────────────────┼────────────┼───────────────────┤\n",
       "│ xception            │ (<span style=\"color: #00d7ff; text-decoration-color: #00d7ff\">None</span>, <span style=\"color: #00af00; text-decoration-color: #00af00\">7</span>, <span style=\"color: #00af00; text-decoration-color: #00af00\">7</span>,      │ <span style=\"color: #00af00; text-decoration-color: #00af00\">20,861,480</span> │ input_layer_2[<span style=\"color: #00af00; text-decoration-color: #00af00\">0</span>]… │\n",
       "│ (<span style=\"color: #0087ff; text-decoration-color: #0087ff\">Functional</span>)        │ <span style=\"color: #00af00; text-decoration-color: #00af00\">2048</span>)             │            │                   │\n",
       "├─────────────────────┼───────────────────┼────────────┼───────────────────┤\n",
       "│ vgg16 (<span style=\"color: #0087ff; text-decoration-color: #0087ff\">Functional</span>)  │ (<span style=\"color: #00d7ff; text-decoration-color: #00d7ff\">None</span>, <span style=\"color: #00af00; text-decoration-color: #00af00\">7</span>, <span style=\"color: #00af00; text-decoration-color: #00af00\">7</span>, <span style=\"color: #00af00; text-decoration-color: #00af00\">512</span>) │ <span style=\"color: #00af00; text-decoration-color: #00af00\">14,714,688</span> │ input_layer_2[<span style=\"color: #00af00; text-decoration-color: #00af00\">0</span>]… │\n",
       "├─────────────────────┼───────────────────┼────────────┼───────────────────┤\n",
       "│ global_average_poo… │ (<span style=\"color: #00d7ff; text-decoration-color: #00d7ff\">None</span>, <span style=\"color: #00af00; text-decoration-color: #00af00\">2048</span>)      │          <span style=\"color: #00af00; text-decoration-color: #00af00\">0</span> │ xception[<span style=\"color: #00af00; text-decoration-color: #00af00\">0</span>][<span style=\"color: #00af00; text-decoration-color: #00af00\">0</span>]    │\n",
       "│ (<span style=\"color: #0087ff; text-decoration-color: #0087ff\">GlobalAveragePool…</span> │                   │            │                   │\n",
       "├─────────────────────┼───────────────────┼────────────┼───────────────────┤\n",
       "│ global_average_poo… │ (<span style=\"color: #00d7ff; text-decoration-color: #00d7ff\">None</span>, <span style=\"color: #00af00; text-decoration-color: #00af00\">512</span>)       │          <span style=\"color: #00af00; text-decoration-color: #00af00\">0</span> │ vgg16[<span style=\"color: #00af00; text-decoration-color: #00af00\">0</span>][<span style=\"color: #00af00; text-decoration-color: #00af00\">0</span>]       │\n",
       "│ (<span style=\"color: #0087ff; text-decoration-color: #0087ff\">GlobalAveragePool…</span> │                   │            │                   │\n",
       "├─────────────────────┼───────────────────┼────────────┼───────────────────┤\n",
       "│ concatenate         │ (<span style=\"color: #00d7ff; text-decoration-color: #00d7ff\">None</span>, <span style=\"color: #00af00; text-decoration-color: #00af00\">2560</span>)      │          <span style=\"color: #00af00; text-decoration-color: #00af00\">0</span> │ global_average_p… │\n",
       "│ (<span style=\"color: #0087ff; text-decoration-color: #0087ff\">Concatenate</span>)       │                   │            │ global_average_p… │\n",
       "├─────────────────────┼───────────────────┼────────────┼───────────────────┤\n",
       "│ dense (<span style=\"color: #0087ff; text-decoration-color: #0087ff\">Dense</span>)       │ (<span style=\"color: #00d7ff; text-decoration-color: #00d7ff\">None</span>, <span style=\"color: #00af00; text-decoration-color: #00af00\">512</span>)       │  <span style=\"color: #00af00; text-decoration-color: #00af00\">1,311,232</span> │ concatenate[<span style=\"color: #00af00; text-decoration-color: #00af00\">0</span>][<span style=\"color: #00af00; text-decoration-color: #00af00\">0</span>] │\n",
       "├─────────────────────┼───────────────────┼────────────┼───────────────────┤\n",
       "│ dropout (<span style=\"color: #0087ff; text-decoration-color: #0087ff\">Dropout</span>)   │ (<span style=\"color: #00d7ff; text-decoration-color: #00d7ff\">None</span>, <span style=\"color: #00af00; text-decoration-color: #00af00\">512</span>)       │          <span style=\"color: #00af00; text-decoration-color: #00af00\">0</span> │ dense[<span style=\"color: #00af00; text-decoration-color: #00af00\">0</span>][<span style=\"color: #00af00; text-decoration-color: #00af00\">0</span>]       │\n",
       "├─────────────────────┼───────────────────┼────────────┼───────────────────┤\n",
       "│ dense_1 (<span style=\"color: #0087ff; text-decoration-color: #0087ff\">Dense</span>)     │ (<span style=\"color: #00d7ff; text-decoration-color: #00d7ff\">None</span>, <span style=\"color: #00af00; text-decoration-color: #00af00\">70</span>)        │     <span style=\"color: #00af00; text-decoration-color: #00af00\">35,910</span> │ dropout[<span style=\"color: #00af00; text-decoration-color: #00af00\">0</span>][<span style=\"color: #00af00; text-decoration-color: #00af00\">0</span>]     │\n",
       "└─────────────────────┴───────────────────┴────────────┴───────────────────┘\n",
       "</pre>\n"
      ],
      "text/plain": [
       "┏━━━━━━━━━━━━━━━━━━━━━┳━━━━━━━━━━━━━━━━━━━┳━━━━━━━━━━━━┳━━━━━━━━━━━━━━━━━━━┓\n",
       "┃\u001b[1m \u001b[0m\u001b[1mLayer (type)       \u001b[0m\u001b[1m \u001b[0m┃\u001b[1m \u001b[0m\u001b[1mOutput Shape     \u001b[0m\u001b[1m \u001b[0m┃\u001b[1m \u001b[0m\u001b[1m   Param #\u001b[0m\u001b[1m \u001b[0m┃\u001b[1m \u001b[0m\u001b[1mConnected to     \u001b[0m\u001b[1m \u001b[0m┃\n",
       "┡━━━━━━━━━━━━━━━━━━━━━╇━━━━━━━━━━━━━━━━━━━╇━━━━━━━━━━━━╇━━━━━━━━━━━━━━━━━━━┩\n",
       "│ input_layer_2       │ (\u001b[38;5;45mNone\u001b[0m, \u001b[38;5;34m224\u001b[0m, \u001b[38;5;34m224\u001b[0m,  │          \u001b[38;5;34m0\u001b[0m │ -                 │\n",
       "│ (\u001b[38;5;33mInputLayer\u001b[0m)        │ \u001b[38;5;34m3\u001b[0m)                │            │                   │\n",
       "├─────────────────────┼───────────────────┼────────────┼───────────────────┤\n",
       "│ xception            │ (\u001b[38;5;45mNone\u001b[0m, \u001b[38;5;34m7\u001b[0m, \u001b[38;5;34m7\u001b[0m,      │ \u001b[38;5;34m20,861,480\u001b[0m │ input_layer_2[\u001b[38;5;34m0\u001b[0m]… │\n",
       "│ (\u001b[38;5;33mFunctional\u001b[0m)        │ \u001b[38;5;34m2048\u001b[0m)             │            │                   │\n",
       "├─────────────────────┼───────────────────┼────────────┼───────────────────┤\n",
       "│ vgg16 (\u001b[38;5;33mFunctional\u001b[0m)  │ (\u001b[38;5;45mNone\u001b[0m, \u001b[38;5;34m7\u001b[0m, \u001b[38;5;34m7\u001b[0m, \u001b[38;5;34m512\u001b[0m) │ \u001b[38;5;34m14,714,688\u001b[0m │ input_layer_2[\u001b[38;5;34m0\u001b[0m]… │\n",
       "├─────────────────────┼───────────────────┼────────────┼───────────────────┤\n",
       "│ global_average_poo… │ (\u001b[38;5;45mNone\u001b[0m, \u001b[38;5;34m2048\u001b[0m)      │          \u001b[38;5;34m0\u001b[0m │ xception[\u001b[38;5;34m0\u001b[0m][\u001b[38;5;34m0\u001b[0m]    │\n",
       "│ (\u001b[38;5;33mGlobalAveragePool…\u001b[0m │                   │            │                   │\n",
       "├─────────────────────┼───────────────────┼────────────┼───────────────────┤\n",
       "│ global_average_poo… │ (\u001b[38;5;45mNone\u001b[0m, \u001b[38;5;34m512\u001b[0m)       │          \u001b[38;5;34m0\u001b[0m │ vgg16[\u001b[38;5;34m0\u001b[0m][\u001b[38;5;34m0\u001b[0m]       │\n",
       "│ (\u001b[38;5;33mGlobalAveragePool…\u001b[0m │                   │            │                   │\n",
       "├─────────────────────┼───────────────────┼────────────┼───────────────────┤\n",
       "│ concatenate         │ (\u001b[38;5;45mNone\u001b[0m, \u001b[38;5;34m2560\u001b[0m)      │          \u001b[38;5;34m0\u001b[0m │ global_average_p… │\n",
       "│ (\u001b[38;5;33mConcatenate\u001b[0m)       │                   │            │ global_average_p… │\n",
       "├─────────────────────┼───────────────────┼────────────┼───────────────────┤\n",
       "│ dense (\u001b[38;5;33mDense\u001b[0m)       │ (\u001b[38;5;45mNone\u001b[0m, \u001b[38;5;34m512\u001b[0m)       │  \u001b[38;5;34m1,311,232\u001b[0m │ concatenate[\u001b[38;5;34m0\u001b[0m][\u001b[38;5;34m0\u001b[0m] │\n",
       "├─────────────────────┼───────────────────┼────────────┼───────────────────┤\n",
       "│ dropout (\u001b[38;5;33mDropout\u001b[0m)   │ (\u001b[38;5;45mNone\u001b[0m, \u001b[38;5;34m512\u001b[0m)       │          \u001b[38;5;34m0\u001b[0m │ dense[\u001b[38;5;34m0\u001b[0m][\u001b[38;5;34m0\u001b[0m]       │\n",
       "├─────────────────────┼───────────────────┼────────────┼───────────────────┤\n",
       "│ dense_1 (\u001b[38;5;33mDense\u001b[0m)     │ (\u001b[38;5;45mNone\u001b[0m, \u001b[38;5;34m70\u001b[0m)        │     \u001b[38;5;34m35,910\u001b[0m │ dropout[\u001b[38;5;34m0\u001b[0m][\u001b[38;5;34m0\u001b[0m]     │\n",
       "└─────────────────────┴───────────────────┴────────────┴───────────────────┘\n"
      ]
     },
     "metadata": {},
     "output_type": "display_data"
    },
    {
     "data": {
      "text/html": [
       "<pre style=\"white-space:pre;overflow-x:auto;line-height:normal;font-family:Menlo,'DejaVu Sans Mono',consolas,'Courier New',monospace\"><span style=\"font-weight: bold\"> Total params: </span><span style=\"color: #00af00; text-decoration-color: #00af00\">36,923,310</span> (140.85 MB)\n",
       "</pre>\n"
      ],
      "text/plain": [
       "\u001b[1m Total params: \u001b[0m\u001b[38;5;34m36,923,310\u001b[0m (140.85 MB)\n"
      ]
     },
     "metadata": {},
     "output_type": "display_data"
    },
    {
     "data": {
      "text/html": [
       "<pre style=\"white-space:pre;overflow-x:auto;line-height:normal;font-family:Menlo,'DejaVu Sans Mono',consolas,'Courier New',monospace\"><span style=\"font-weight: bold\"> Trainable params: </span><span style=\"color: #00af00; text-decoration-color: #00af00\">20,412,742</span> (77.87 MB)\n",
       "</pre>\n"
      ],
      "text/plain": [
       "\u001b[1m Trainable params: \u001b[0m\u001b[38;5;34m20,412,742\u001b[0m (77.87 MB)\n"
      ]
     },
     "metadata": {},
     "output_type": "display_data"
    },
    {
     "data": {
      "text/html": [
       "<pre style=\"white-space:pre;overflow-x:auto;line-height:normal;font-family:Menlo,'DejaVu Sans Mono',consolas,'Courier New',monospace\"><span style=\"font-weight: bold\"> Non-trainable params: </span><span style=\"color: #00af00; text-decoration-color: #00af00\">16,510,568</span> (62.98 MB)\n",
       "</pre>\n"
      ],
      "text/plain": [
       "\u001b[1m Non-trainable params: \u001b[0m\u001b[38;5;34m16,510,568\u001b[0m (62.98 MB)\n"
      ]
     },
     "metadata": {},
     "output_type": "display_data"
    }
   ],
   "source": [
    "import numpy as np\n",
    "import pandas as pd\n",
    "import tensorflow as tf\n",
    "from tensorflow.keras.applications import InceptionV3, Xception\n",
    "from tensorflow.keras.models import Model\n",
    "from tensorflow.keras.layers import Dense, GlobalAveragePooling2D, Dropout, Input, Concatenate, Flatten, BatchNormalization\n",
    "from tensorflow.keras.optimizers import Adam\n",
    "from tensorflow.keras.preprocessing.image import ImageDataGenerator\n",
    "from sklearn.model_selection import train_test_split\n",
    "\n",
    "# Define input shape\n",
    "input_shape = (224, 224, 3)  # Or (224, 224, 3) based on your choice\n",
    "\n",
    "# Load InceptionV3 and Xception with ImageNet weights and without the top fully connected layers\n",
    "inception_base = VGG16(weights='imagenet', include_top=False, input_shape=input_shape)\n",
    "xception_base = Xception(weights='imagenet', include_top=False, input_shape=input_shape)\n",
    "\n",
    "# Freeze the base models (optional, or you can fine-tune some layers)\n",
    "for layer in inception_base.layers[:-10]:\n",
    "    layer.trainable = False\n",
    "\n",
    "for layer in xception_base.layers[:-10]:\n",
    "    layer.trainable = False\n",
    "    \n",
    "# Create custom input tensor\n",
    "input_tensor = Input(shape=input_shape)\n",
    "\n",
    "# Pass the input through both models\n",
    "xception_features = xception_base(input_tensor)\n",
    "inception_features = inception_base(input_tensor)\n",
    "\n",
    "# Global average pooling for both feature sets\n",
    "xception_pooling = GlobalAveragePooling2D()(xception_features)\n",
    "inception_pooling = GlobalAveragePooling2D()(inception_features)\n",
    "\n",
    "# Concatenate the features\n",
    "merged = Concatenate()([xception_pooling, inception_pooling])\n",
    "\n",
    "# Add the custom MLP on top of the concatenated features\n",
    "# x = Dropout(0.3)(merged)\n",
    "x = Dense(512, activation='relu')(merged)\n",
    "x = Dropout(0.3)(x)\n",
    "\n",
    "# Output layer (for 70 classes with sigmoid activation)\n",
    "output_tensor = Dense(70, activation='softmax')(x)\n",
    "\n",
    "# Create the hybrid model\n",
    "model = Model(inputs=input_tensor, outputs=output_tensor)\n",
    "\n",
    "# Compile the model\n",
    "model.compile(optimizer=Adam(learning_rate=1e-4), \n",
    "                     loss='categorical_crossentropy', \n",
    "                     metrics=['accuracy'])\n",
    "\n",
    "# Show model summary\n",
    "model.summary()\n"
   ]
  },
  {
   "cell_type": "code",
   "execution_count": 6,
   "id": "71cfb3aa",
   "metadata": {
    "execution": {
     "iopub.execute_input": "2024-09-29T16:56:59.752050Z",
     "iopub.status.busy": "2024-09-29T16:56:59.751707Z",
     "iopub.status.idle": "2024-09-29T17:18:48.986722Z",
     "shell.execute_reply": "2024-09-29T17:18:48.985746Z"
    },
    "papermill": {
     "duration": 1309.246512,
     "end_time": "2024-09-29T17:18:48.989301",
     "exception": false,
     "start_time": "2024-09-29T16:56:59.742789",
     "status": "completed"
    },
    "tags": []
   },
   "outputs": [
    {
     "name": "stdout",
     "output_type": "stream",
     "text": [
      "Epoch 1/40\n"
     ]
    },
    {
     "name": "stderr",
     "output_type": "stream",
     "text": [
      "/opt/conda/lib/python3.10/site-packages/keras/src/trainers/data_adapters/py_dataset_adapter.py:121: UserWarning: Your `PyDataset` class should call `super().__init__(**kwargs)` in its constructor. `**kwargs` can include `workers`, `use_multiprocessing`, `max_queue_size`. Do not pass these arguments to `fit()`, as they will be ignored.\n",
      "  self._warn_if_super_not_called()\n",
      "WARNING: All log messages before absl::InitializeLog() is called are written to STDERR\n",
      "I0000 00:00:1727629032.639750      64 service.cc:145] XLA service 0x7a9c400118e0 initialized for platform CUDA (this does not guarantee that XLA will be used). Devices:\n",
      "I0000 00:00:1727629032.639829      64 service.cc:153]   StreamExecutor device (0): Tesla P100-PCIE-16GB, Compute Capability 6.0\n"
     ]
    },
    {
     "name": "stdout",
     "output_type": "stream",
     "text": [
      "\u001b[1m  1/199\u001b[0m \u001b[37m━━━━━━━━━━━━━━━━━━━━\u001b[0m \u001b[1m1:49:40\u001b[0m 33s/step - accuracy: 0.0000e+00 - loss: 4.3954"
     ]
    },
    {
     "name": "stderr",
     "output_type": "stream",
     "text": [
      "I0000 00:00:1727629053.937332      64 device_compiler.h:188] Compiled cluster using XLA!  This line is logged at most once for the lifetime of the process.\n"
     ]
    },
    {
     "name": "stdout",
     "output_type": "stream",
     "text": [
      "\u001b[1m199/199\u001b[0m \u001b[32m━━━━━━━━━━━━━━━━━━━━\u001b[0m\u001b[37m\u001b[0m \u001b[1m171s\u001b[0m 697ms/step - accuracy: 0.3832 - loss: 3.0317 - val_accuracy: 0.9069 - val_loss: 0.3314 - learning_rate: 1.0000e-04\n",
      "Epoch 2/40\n",
      "\u001b[1m199/199\u001b[0m \u001b[32m━━━━━━━━━━━━━━━━━━━━\u001b[0m\u001b[37m\u001b[0m \u001b[1m92s\u001b[0m 446ms/step - accuracy: 0.8534 - loss: 0.5493 - val_accuracy: 0.9264 - val_loss: 0.2655 - learning_rate: 1.0000e-04\n",
      "Epoch 3/40\n",
      "\u001b[1m199/199\u001b[0m \u001b[32m━━━━━━━━━━━━━━━━━━━━\u001b[0m\u001b[37m\u001b[0m \u001b[1m90s\u001b[0m 440ms/step - accuracy: 0.8980 - loss: 0.3581 - val_accuracy: 0.9157 - val_loss: 0.2662 - learning_rate: 1.0000e-04\n",
      "Epoch 4/40\n",
      "\u001b[1m199/199\u001b[0m \u001b[32m━━━━━━━━━━━━━━━━━━━━\u001b[0m\u001b[37m\u001b[0m \u001b[1m140s\u001b[0m 429ms/step - accuracy: 0.8991 - loss: 0.3149 - val_accuracy: 0.9189 - val_loss: 0.2540 - learning_rate: 1.0000e-04\n",
      "Epoch 5/40\n",
      "\u001b[1m199/199\u001b[0m \u001b[32m━━━━━━━━━━━━━━━━━━━━\u001b[0m\u001b[37m\u001b[0m \u001b[1m90s\u001b[0m 436ms/step - accuracy: 0.9104 - loss: 0.2856 - val_accuracy: 0.9214 - val_loss: 0.2513 - learning_rate: 1.0000e-04\n",
      "Epoch 6/40\n",
      "\u001b[1m199/199\u001b[0m \u001b[32m━━━━━━━━━━━━━━━━━━━━\u001b[0m\u001b[37m\u001b[0m \u001b[1m89s\u001b[0m 434ms/step - accuracy: 0.9290 - loss: 0.2223 - val_accuracy: 0.9258 - val_loss: 0.2546 - learning_rate: 1.0000e-04\n",
      "Epoch 7/40\n",
      "\u001b[1m199/199\u001b[0m \u001b[32m━━━━━━━━━━━━━━━━━━━━\u001b[0m\u001b[37m\u001b[0m \u001b[1m92s\u001b[0m 448ms/step - accuracy: 0.9452 - loss: 0.1860 - val_accuracy: 0.9258 - val_loss: 0.2561 - learning_rate: 1.0000e-04\n",
      "Epoch 8/40\n",
      "\u001b[1m199/199\u001b[0m \u001b[32m━━━━━━━━━━━━━━━━━━━━\u001b[0m\u001b[37m\u001b[0m \u001b[1m91s\u001b[0m 444ms/step - accuracy: 0.9455 - loss: 0.1752 - val_accuracy: 0.9283 - val_loss: 0.2414 - learning_rate: 1.0000e-04\n",
      "Epoch 9/40\n",
      "\u001b[1m199/199\u001b[0m \u001b[32m━━━━━━━━━━━━━━━━━━━━\u001b[0m\u001b[37m\u001b[0m \u001b[1m90s\u001b[0m 439ms/step - accuracy: 0.9525 - loss: 0.1519 - val_accuracy: 0.9113 - val_loss: 0.2983 - learning_rate: 1.0000e-04\n",
      "Epoch 10/40\n",
      "\u001b[1m199/199\u001b[0m \u001b[32m━━━━━━━━━━━━━━━━━━━━\u001b[0m\u001b[37m\u001b[0m \u001b[1m91s\u001b[0m 443ms/step - accuracy: 0.9603 - loss: 0.1362 - val_accuracy: 0.9220 - val_loss: 0.2701 - learning_rate: 1.0000e-04\n",
      "Epoch 11/40\n",
      "\u001b[1m199/199\u001b[0m \u001b[32m━━━━━━━━━━━━━━━━━━━━\u001b[0m\u001b[37m\u001b[0m \u001b[1m90s\u001b[0m 439ms/step - accuracy: 0.9595 - loss: 0.1260 - val_accuracy: 0.9283 - val_loss: 0.2677 - learning_rate: 1.0000e-04\n",
      "Epoch 12/40\n",
      "\u001b[1m199/199\u001b[0m \u001b[32m━━━━━━━━━━━━━━━━━━━━\u001b[0m\u001b[37m\u001b[0m \u001b[1m90s\u001b[0m 439ms/step - accuracy: 0.9708 - loss: 0.0996 - val_accuracy: 0.9327 - val_loss: 0.2454 - learning_rate: 2.0000e-05\n",
      "Epoch 13/40\n",
      "\u001b[1m199/199\u001b[0m \u001b[32m━━━━━━━━━━━━━━━━━━━━\u001b[0m\u001b[37m\u001b[0m \u001b[1m89s\u001b[0m 433ms/step - accuracy: 0.9709 - loss: 0.0952 - val_accuracy: 0.9321 - val_loss: 0.2443 - learning_rate: 2.0000e-05\n"
     ]
    }
   ],
   "source": [
    "checkpoint = ModelCheckpoint('best_model.keras', monitor='val_accuracy', save_best_only=True, mode='max')\n",
    "early_stop = EarlyStopping(monitor='val_loss', patience=5, min_delta=0.001, restore_best_weights=True)\n",
    "reduce_lr = ReduceLROnPlateau(monitor='val_loss', factor=0.2, patience=3, min_lr=1e-6)\n",
    "\n",
    "history = model.fit(\n",
    "    train_generator,\n",
    "    validation_data=val_generator,\n",
    "    epochs=40, \n",
    "    callbacks=[checkpoint, early_stop, reduce_lr]\n",
    ")"
   ]
  },
  {
   "cell_type": "code",
   "execution_count": 7,
   "id": "51bc5e20",
   "metadata": {
    "execution": {
     "iopub.execute_input": "2024-09-29T17:18:49.426546Z",
     "iopub.status.busy": "2024-09-29T17:18:49.426146Z",
     "iopub.status.idle": "2024-09-29T17:18:49.748311Z",
     "shell.execute_reply": "2024-09-29T17:18:49.747313Z"
    },
    "papermill": {
     "duration": 0.544354,
     "end_time": "2024-09-29T17:18:49.750377",
     "exception": false,
     "start_time": "2024-09-29T17:18:49.206023",
     "status": "completed"
    },
    "tags": []
   },
   "outputs": [
    {
     "data": {
      "image/png": "[encoded data removed]",
      "text/plain": [
       "<Figure size 640x480 with 1 Axes>"
      ]
     },
     "metadata": {},
     "output_type": "display_data"
    }
   ],
   "source": [
    "import matplotlib.pyplot as plt\n",
    "import pandas as pd\n",
    "\n",
    "# Lấy dữ liệu loss và val_loss từ lịch sử huấn luyện\n",
    "loss = pd.DataFrame({\n",
    "    \"loss\": history.history['loss'],\n",
    "    \"val_loss\": history.history['val_loss']\n",
    "})\n",
    "\n",
    "# Vẽ biểu đồ loss\n",
    "ax = loss[[\"loss\", \"val_loss\"]].plot(color=['lightseagreen', 'maroon'])\n",
    "\n",
    "# Thiết lập nhãn trục x, y\n",
    "ax.set_xlabel('Epoch', fontsize=12)\n",
    "ax.set_ylabel('Loss', fontsize=12)\n",
    "\n",
    "# Thêm legend\n",
    "ax.legend(['Train', 'Validation'], fontsize=10)\n",
    "\n",
    "# Hiển thị lưới\n",
    "plt.grid(True)\n",
    "\n",
    "# Hiển thị biểu đồ\n",
    "plt.show()"
   ]
  },
  {
   "cell_type": "code",
   "execution_count": 8,
   "id": "d70e66f5",
   "metadata": {
    "execution": {
     "iopub.execute_input": "2024-09-29T17:18:50.186825Z",
     "iopub.status.busy": "2024-09-29T17:18:50.186437Z",
     "iopub.status.idle": "2024-09-29T17:18:50.459808Z",
     "shell.execute_reply": "2024-09-29T17:18:50.458835Z"
    },
    "papermill": {
     "duration": 0.491702,
     "end_time": "2024-09-29T17:18:50.461847",
     "exception": false,
     "start_time": "2024-09-29T17:18:49.970145",
     "status": "completed"
    },
    "tags": []
   },
   "outputs": [
    {
     "data": {
      "image/png": "[encoded data removed]",
      "text/plain": [
       "<Figure size 640x480 with 1 Axes>"
      ]
     },
     "metadata": {},
     "output_type": "display_data"
    }
   ],
   "source": [
    "# Lấy dữ liệu accuracy và val_accuracy từ lịch sử huấn luyện\n",
    "accuracy = pd.DataFrame({\n",
    "    \"accuracy\": history.history['accuracy'],\n",
    "    \"val_accuracy\": history.history['val_accuracy']\n",
    "})\n",
    "\n",
    "# Vẽ biểu đồ accuracy\n",
    "ax = accuracy[[\"accuracy\", \"val_accuracy\"]].plot(color=['lightseagreen', 'maroon'])\n",
    "\n",
    "# Thiết lập nhãn trục x, y\n",
    "ax.set_xlabel('Epoch', fontsize=12)\n",
    "ax.set_ylabel('Accuracy', fontsize=12)\n",
    "\n",
    "# Thêm legend\n",
    "ax.legend(['Train', 'Validation'], fontsize=10)\n",
    "\n",
    "# Hiển thị lưới\n",
    "plt.grid(True)\n",
    "\n",
    "# Hiển thị biểu đồ\n",
    "plt.show()"
   ]
  },
  {
   "cell_type": "code",
   "execution_count": 9,
   "id": "09de04bd",
   "metadata": {
    "execution": {
     "iopub.execute_input": "2024-09-29T17:18:50.891116Z",
     "iopub.status.busy": "2024-09-29T17:18:50.890701Z",
     "iopub.status.idle": "2024-09-29T17:18:52.002565Z",
     "shell.execute_reply": "2024-09-29T17:18:52.001775Z"
    },
    "papermill": {
     "duration": 1.329946,
     "end_time": "2024-09-29T17:18:52.004754",
     "exception": false,
     "start_time": "2024-09-29T17:18:50.674808",
     "status": "completed"
    },
    "tags": []
   },
   "outputs": [
    {
     "name": "stdout",
     "output_type": "stream",
     "text": [
      "Found 7946 validated image filenames belonging to 70 classes.\n"
     ]
    }
   ],
   "source": [
    "# Combine train and validation data\n",
    "combined_df = pd.concat([train_df, val_df])\n",
    "\n",
    "# Create a new data generator for the combined dataset\n",
    "combined_generator = train_datagen.flow_from_dataframe(\n",
    "    combined_df,\n",
    "    directory=train_dir,\n",
    "    x_col='filepaths',\n",
    "    y_col='class',\n",
    "    target_size=img_size,\n",
    "    batch_size=batch_size,\n",
    "    class_mode='categorical'\n",
    ")\n"
   ]
  },
  {
   "cell_type": "code",
   "execution_count": 10,
   "id": "572afb8a",
   "metadata": {
    "execution": {
     "iopub.execute_input": "2024-09-29T17:18:52.440668Z",
     "iopub.status.busy": "2024-09-29T17:18:52.440231Z",
     "iopub.status.idle": "2024-09-29T17:36:30.774524Z",
     "shell.execute_reply": "2024-09-29T17:36:30.773597Z"
    },
    "papermill": {
     "duration": 1058.555937,
     "end_time": "2024-09-29T17:36:30.776542",
     "exception": false,
     "start_time": "2024-09-29T17:18:52.220605",
     "status": "completed"
    },
    "tags": []
   },
   "outputs": [
    {
     "name": "stdout",
     "output_type": "stream",
     "text": [
      "Epoch 1/10\n"
     ]
    },
    {
     "name": "stderr",
     "output_type": "stream",
     "text": [
      "/opt/conda/lib/python3.10/site-packages/keras/src/trainers/data_adapters/py_dataset_adapter.py:121: UserWarning: Your `PyDataset` class should call `super().__init__(**kwargs)` in its constructor. `**kwargs` can include `workers`, `use_multiprocessing`, `max_queue_size`. Do not pass these arguments to `fit()`, as they will be ignored.\n",
      "  self._warn_if_super_not_called()\n"
     ]
    },
    {
     "name": "stdout",
     "output_type": "stream",
     "text": [
      "\u001b[1m249/249\u001b[0m \u001b[32m━━━━━━━━━━━━━━━━━━━━\u001b[0m\u001b[37m\u001b[0m \u001b[1m126s\u001b[0m 447ms/step - accuracy: 0.9444 - loss: 0.1831 - learning_rate: 1.0000e-05\n",
      "Epoch 2/10\n"
     ]
    },
    {
     "name": "stderr",
     "output_type": "stream",
     "text": [
      "/opt/conda/lib/python3.10/site-packages/keras/src/callbacks/model_checkpoint.py:206: UserWarning: Can save best model only with val_accuracy available, skipping.\n",
      "  self._save_model(epoch=epoch, batch=None, logs=logs)\n",
      "/opt/conda/lib/python3.10/site-packages/keras/src/callbacks/callback_list.py:96: UserWarning: Learning rate reduction is conditioned on metric `val_loss` which is not available. Available metrics are: accuracy,loss,learning_rate.\n",
      "  callback.on_epoch_end(epoch, logs)\n"
     ]
    },
    {
     "name": "stdout",
     "output_type": "stream",
     "text": [
      "\u001b[1m249/249\u001b[0m \u001b[32m━━━━━━━━━━━━━━━━━━━━\u001b[0m\u001b[37m\u001b[0m \u001b[1m105s\u001b[0m 409ms/step - accuracy: 0.9449 - loss: 0.1824 - learning_rate: 1.0000e-05\n",
      "Epoch 3/10\n",
      "\u001b[1m249/249\u001b[0m \u001b[32m━━━━━━━━━━━━━━━━━━━━\u001b[0m\u001b[37m\u001b[0m \u001b[1m103s\u001b[0m 403ms/step - accuracy: 0.9523 - loss: 0.1704 - learning_rate: 1.0000e-05\n",
      "Epoch 4/10\n",
      "\u001b[1m249/249\u001b[0m \u001b[32m━━━━━━━━━━━━━━━━━━━━\u001b[0m\u001b[37m\u001b[0m \u001b[1m103s\u001b[0m 403ms/step - accuracy: 0.9519 - loss: 0.1585 - learning_rate: 1.0000e-05\n",
      "Epoch 5/10\n",
      "\u001b[1m249/249\u001b[0m \u001b[32m━━━━━━━━━━━━━━━━━━━━\u001b[0m\u001b[37m\u001b[0m \u001b[1m105s\u001b[0m 410ms/step - accuracy: 0.9507 - loss: 0.1573 - learning_rate: 1.0000e-05\n",
      "Epoch 6/10\n",
      "\u001b[1m249/249\u001b[0m \u001b[32m━━━━━━━━━━━━━━━━━━━━\u001b[0m\u001b[37m\u001b[0m \u001b[1m103s\u001b[0m 402ms/step - accuracy: 0.9551 - loss: 0.1478 - learning_rate: 1.0000e-05\n",
      "Epoch 7/10\n",
      "\u001b[1m249/249\u001b[0m \u001b[32m━━━━━━━━━━━━━━━━━━━━\u001b[0m\u001b[37m\u001b[0m \u001b[1m103s\u001b[0m 404ms/step - accuracy: 0.9524 - loss: 0.1517 - learning_rate: 1.0000e-05\n",
      "Epoch 8/10\n",
      "\u001b[1m249/249\u001b[0m \u001b[32m━━━━━━━━━━━━━━━━━━━━\u001b[0m\u001b[37m\u001b[0m \u001b[1m103s\u001b[0m 400ms/step - accuracy: 0.9551 - loss: 0.1416 - learning_rate: 1.0000e-05\n",
      "Epoch 9/10\n",
      "\u001b[1m249/249\u001b[0m \u001b[32m━━━━━━━━━━━━━━━━━━━━\u001b[0m\u001b[37m\u001b[0m \u001b[1m103s\u001b[0m 401ms/step - accuracy: 0.9566 - loss: 0.1429 - learning_rate: 1.0000e-05\n",
      "Epoch 10/10\n",
      "\u001b[1m249/249\u001b[0m \u001b[32m━━━━━━━━━━━━━━━━━━━━\u001b[0m\u001b[37m\u001b[0m \u001b[1m103s\u001b[0m 400ms/step - accuracy: 0.9584 - loss: 0.1332 - learning_rate: 1.0000e-05\n"
     ]
    }
   ],
   "source": [
    "# Adjust the learning rate for fine-tuning\n",
    "fine_tune_lr = 1e-5  # Smaller learning rate for fine-tuning\n",
    "model.compile(optimizer=Adam(learning_rate=fine_tune_lr), \n",
    "              loss='categorical_crossentropy', \n",
    "              metrics=['accuracy'])\n",
    "\n",
    "# Continue training on the combined dataset\n",
    "history_combined = model.fit(\n",
    "    combined_generator,\n",
    "    epochs=10,  # Fine-tuning for a few epochs (adjust as needed)\n",
    "    callbacks=[checkpoint, reduce_lr]\n",
    ")"
   ]
  },
  {
   "cell_type": "code",
   "execution_count": 11,
   "id": "eae12ca6",
   "metadata": {
    "execution": {
     "iopub.execute_input": "2024-09-29T17:36:31.612478Z",
     "iopub.status.busy": "2024-09-29T17:36:31.611753Z",
     "iopub.status.idle": "2024-09-29T17:36:53.391210Z",
     "shell.execute_reply": "2024-09-29T17:36:53.390306Z"
    },
    "papermill": {
     "duration": 22.201269,
     "end_time": "2024-09-29T17:36:53.393838",
     "exception": false,
     "start_time": "2024-09-29T17:36:31.192569",
     "status": "completed"
    },
    "tags": []
   },
   "outputs": [
    {
     "name": "stdout",
     "output_type": "stream",
     "text": [
      "\u001b[1m44/44\u001b[0m \u001b[32m━━━━━━━━━━━━━━━━━━━━\u001b[0m\u001b[37m\u001b[0m \u001b[1m21s\u001b[0m 434ms/step\n",
      "['class_58', 'class_58', 'class_7', 'class_17', 'class_71', 'class_39', 'class_69', 'class_36', 'class_27', 'class_31', 'class_34', 'class_69', 'class_36', 'class_57', 'class_70', 'class_39', 'class_50', 'class_39', 'class_63', 'class_3', 'class_55', 'class_53', 'class_41', 'class_12', 'class_14', 'class_63', 'class_34', 'class_19', 'class_5', 'class_7', 'class_46', 'class_23', 'class_33', 'class_56', 'class_42', 'class_19', 'class_21', 'class_31', 'class_52', 'class_55', 'class_59', 'class_48', 'class_6', 'class_32', 'class_18', 'class_13', 'class_4', 'class_23', 'class_46', 'class_35', 'class_20', 'class_8', 'class_59', 'class_60', 'class_17', 'class_59', 'class_35', 'class_27', 'class_49', 'class_16', 'class_69', 'class_45', 'class_71', 'class_17', 'class_13', 'class_8', 'class_20', 'class_69', 'class_71', 'class_38', 'class_63', 'class_11', 'class_32', 'class_65', 'class_23', 'class_38', 'class_64', 'class_65', 'class_61', 'class_26', 'class_29', 'class_3', 'class_67', 'class_52', 'class_29', 'class_42', 'class_11', 'class_59', 'class_6', 'class_31', 'class_11', 'class_33', 'class_56', 'class_52', 'class_14', 'class_9', 'class_35', 'class_30', 'class_71', 'class_20', 'class_1', 'class_63', 'class_3', 'class_63', 'class_30', 'class_36', 'class_50', 'class_24', 'class_47', 'class_3', 'class_68', 'class_32', 'class_14', 'class_37', 'class_60', 'class_43', 'class_29', 'class_5', 'class_25', 'class_24', 'class_13', 'class_42', 'class_17', 'class_69', 'class_51', 'class_22', 'class_4', 'class_31', 'class_67', 'class_35', 'class_44', 'class_32', 'class_19', 'class_47', 'class_68', 'class_62', 'class_27', 'class_2', 'class_61', 'class_48', 'class_56', 'class_17', 'class_34', 'class_11', 'class_18', 'class_26', 'class_69', 'class_41', 'class_37', 'class_30', 'class_38', 'class_48', 'class_32', 'class_64', 'class_17', 'class_44', 'class_32', 'class_61', 'class_28', 'class_64', 'class_37', 'class_6', 'class_21', 'class_35', 'class_67', 'class_24', 'class_25', 'class_23', 'class_21', 'class_69', 'class_35', 'class_40', 'class_70', 'class_7', 'class_29', 'class_30', 'class_15', 'class_40', 'class_19', 'class_33', 'class_9', 'class_19', 'class_63', 'class_20', 'class_7', 'class_1', 'class_49', 'class_36', 'class_39', 'class_4', 'class_51', 'class_2', 'class_1', 'class_65', 'class_60', 'class_19', 'class_71', 'class_20', 'class_27', 'class_7', 'class_32', 'class_30', 'class_71', 'class_60', 'class_63', 'class_8', 'class_47', 'class_27', 'class_46', 'class_37', 'class_63', 'class_62', 'class_35', 'class_52', 'class_61', 'class_45', 'class_47', 'class_57', 'class_21', 'class_30', 'class_54', 'class_39', 'class_58', 'class_23', 'class_35', 'class_60', 'class_37', 'class_5', 'class_10', 'class_49', 'class_57', 'class_20', 'class_17', 'class_42', 'class_2', 'class_35', 'class_16', 'class_47', 'class_41', 'class_33', 'class_65', 'class_61', 'class_32', 'class_48', 'class_61', 'class_43', 'class_39', 'class_68', 'class_55', 'class_16', 'class_14', 'class_52', 'class_24', 'class_11', 'class_27', 'class_62', 'class_56', 'class_21', 'class_56', 'class_9', 'class_28', 'class_50', 'class_51', 'class_29', 'class_67', 'class_60', 'class_31', 'class_34', 'class_14', 'class_52', 'class_51', 'class_14', 'class_40', 'class_57', 'class_15', 'class_17', 'class_46', 'class_29', 'class_47', 'class_34', 'class_25', 'class_55', 'class_31', 'class_22', 'class_5', 'class_40', 'class_24', 'class_63', 'class_14', 'class_23', 'class_3', 'class_24', 'class_4', 'class_64', 'class_70', 'class_9', 'class_30', 'class_70', 'class_1', 'class_32', 'class_38', 'class_6', 'class_46', 'class_7', 'class_28', 'class_25', 'class_10', 'class_64', 'class_37', 'class_26', 'class_11', 'class_12', 'class_13', 'class_68', 'class_40', 'class_71', 'class_28', 'class_25', 'class_8', 'class_19', 'class_23', 'class_5', 'class_13', 'class_48', 'class_6', 'class_33', 'class_39', 'class_1', 'class_25', 'class_59', 'class_26', 'class_32', 'class_42', 'class_34', 'class_50', 'class_58', 'class_25', 'class_26', 'class_4', 'class_31', 'class_27', 'class_57', 'class_59', 'class_27', 'class_36', 'class_22', 'class_57', 'class_38', 'class_4', 'class_70', 'class_50', 'class_63', 'class_35', 'class_67', 'class_38', 'class_40', 'class_38', 'class_33', 'class_48', 'class_57', 'class_35', 'class_60', 'class_23', 'class_18', 'class_55', 'class_29', 'class_16', 'class_46', 'class_5', 'class_4', 'class_64', 'class_11', 'class_59', 'class_2', 'class_34', 'class_17', 'class_31', 'class_6', 'class_16', 'class_7', 'class_22', 'class_62', 'class_19', 'class_53', 'class_15', 'class_9', 'class_28', 'class_57', 'class_59', 'class_67', 'class_4', 'class_22', 'class_60', 'class_51', 'class_62', 'class_20', 'class_33', 'class_29', 'class_45', 'class_35', 'class_20', 'class_22', 'class_47', 'class_24', 'class_65', 'class_48', 'class_6', 'class_20', 'class_21', 'class_36', 'class_31', 'class_53', 'class_58', 'class_1', 'class_44', 'class_64', 'class_5', 'class_62', 'class_9', 'class_32', 'class_60', 'class_19', 'class_41', 'class_15', 'class_17', 'class_10', 'class_14', 'class_53', 'class_53', 'class_10', 'class_8', 'class_35', 'class_58', 'class_7', 'class_22', 'class_58', 'class_53', 'class_55', 'class_71', 'class_42', 'class_50', 'class_4', 'class_38', 'class_31', 'class_34', 'class_51', 'class_56', 'class_54', 'class_25', 'class_26', 'class_64', 'class_29', 'class_13', 'class_67', 'class_16', 'class_51', 'class_1', 'class_45', 'class_68', 'class_8', 'class_52', 'class_64', 'class_18', 'class_71', 'class_2', 'class_31', 'class_37', 'class_61', 'class_59', 'class_48', 'class_48', 'class_46', 'class_41', 'class_68', 'class_69', 'class_71', 'class_68', 'class_55', 'class_21', 'class_22', 'class_9', 'class_67', 'class_18', 'class_12', 'class_70', 'class_17', 'class_19', 'class_38', 'class_44', 'class_31', 'class_59', 'class_8', 'class_39', 'class_18', 'class_63', 'class_62', 'class_56', 'class_59', 'class_7', 'class_8', 'class_15', 'class_23', 'class_2', 'class_54', 'class_19', 'class_15', 'class_50', 'class_62', 'class_53', 'class_65', 'class_57', 'class_62', 'class_62', 'class_16', 'class_51', 'class_65', 'class_23', 'class_24', 'class_7', 'class_40', 'class_69', 'class_37', 'class_67', 'class_56', 'class_33', 'class_11', 'class_58', 'class_34', 'class_20', 'class_6', 'class_65', 'class_16', 'class_31', 'class_29', 'class_67', 'class_38', 'class_21', 'class_69', 'class_17', 'class_32', 'class_26', 'class_32', 'class_12', 'class_69', 'class_18', 'class_7', 'class_7', 'class_49', 'class_58', 'class_51', 'class_27', 'class_40', 'class_3', 'class_15', 'class_32', 'class_11', 'class_14', 'class_62', 'class_30', 'class_22', 'class_2', 'class_23', 'class_42', 'class_23', 'class_13', 'class_28', 'class_24', 'class_20', 'class_29', 'class_5', 'class_45', 'class_42', 'class_42', 'class_15', 'class_60', 'class_9', 'class_12', 'class_7', 'class_44', 'class_57', 'class_27', 'class_2', 'class_26', 'class_4', 'class_36', 'class_51', 'class_31', 'class_60', 'class_21', 'class_10', 'class_3', 'class_63', 'class_50', 'class_63', 'class_1', 'class_57', 'class_27', 'class_43', 'class_43', 'class_55', 'class_70', 'class_48', 'class_2', 'class_4', 'class_36', 'class_60', 'class_17', 'class_17', 'class_37', 'class_6', 'class_28', 'class_38', 'class_33', 'class_39', 'class_11', 'class_20', 'class_16', 'class_9', 'class_18', 'class_45', 'class_49', 'class_43', 'class_69', 'class_1', 'class_47', 'class_18', 'class_59', 'class_40', 'class_19', 'class_68', 'class_40', 'class_28', 'class_65', 'class_30', 'class_46', 'class_37', 'class_51', 'class_30', 'class_61', 'class_68', 'class_25', 'class_56', 'class_25', 'class_41', 'class_13', 'class_1', 'class_51', 'class_58', 'class_22', 'class_51', 'class_3', 'class_3', 'class_28', 'class_10', 'class_10', 'class_30', 'class_52', 'class_52', 'class_37', 'class_71', 'class_10', 'class_43', 'class_40', 'class_8', 'class_27', 'class_53', 'class_55', 'class_70', 'class_53', 'class_18', 'class_52', 'class_16', 'class_23', 'class_43', 'class_16', 'class_38', 'class_39', 'class_53', 'class_12', 'class_70', 'class_12', 'class_49', 'class_62', 'class_4', 'class_2', 'class_38', 'class_51', 'class_28', 'class_20', 'class_59', 'class_14', 'class_64', 'class_41', 'class_47', 'class_9', 'class_41', 'class_65', 'class_6', 'class_25', 'class_12', 'class_23', 'class_53', 'class_3', 'class_36', 'class_25', 'class_65', 'class_42', 'class_58', 'class_40', 'class_30', 'class_10', 'class_68', 'class_15', 'class_64', 'class_15', 'class_50', 'class_7', 'class_48', 'class_57', 'class_22', 'class_13', 'class_4', 'class_10', 'class_24', 'class_63', 'class_6', 'class_6', 'class_67', 'class_8', 'class_70', 'class_36', 'class_46', 'class_39', 'class_6', 'class_41', 'class_42', 'class_47', 'class_25', 'class_2', 'class_21', 'class_22', 'class_16', 'class_28', 'class_61', 'class_6', 'class_27', 'class_25', 'class_25', 'class_17', 'class_68', 'class_9', 'class_21', 'class_22', 'class_12', 'class_71', 'class_45', 'class_46', 'class_61', 'class_21', 'class_37', 'class_9', 'class_58', 'class_57', 'class_38', 'class_24', 'class_71', 'class_65', 'class_31', 'class_14', 'class_3', 'class_15', 'class_10', 'class_36', 'class_4', 'class_1', 'class_55', 'class_26', 'class_18', 'class_54', 'class_61', 'class_70', 'class_2', 'class_69', 'class_23', 'class_16', 'class_29', 'class_30', 'class_34', 'class_50', 'class_39', 'class_65', 'class_47', 'class_68', 'class_71', 'class_33', 'class_28', 'class_38', 'class_33', 'class_34', 'class_7', 'class_32', 'class_3', 'class_28', 'class_44', 'class_44', 'class_24', 'class_70', 'class_5', 'class_46', 'class_44', 'class_1', 'class_67', 'class_3', 'class_58', 'class_6', 'class_60', 'class_34', 'class_45', 'class_27', 'class_27', 'class_34', 'class_9', 'class_36', 'class_52', 'class_24', 'class_33', 'class_12', 'class_50', 'class_61', 'class_34', 'class_15', 'class_43', 'class_32', 'class_68', 'class_22', 'class_44', 'class_13', 'class_37', 'class_57', 'class_12', 'class_31', 'class_8', 'class_40', 'class_56', 'class_23', 'class_69', 'class_16', 'class_68', 'class_56', 'class_69', 'class_18', 'class_32', 'class_48', 'class_7', 'class_62', 'class_26', 'class_28', 'class_8', 'class_26', 'class_34', 'class_21', 'class_5', 'class_45', 'class_69', 'class_30', 'class_40', 'class_23', 'class_19', 'class_19', 'class_19', 'class_55', 'class_47', 'class_2', 'class_41', 'class_9', 'class_8', 'class_40', 'class_3', 'class_57', 'class_26', 'class_63', 'class_24', 'class_55', 'class_11', 'class_62', 'class_42', 'class_51', 'class_48', 'class_47', 'class_46', 'class_58', 'class_43', 'class_11', 'class_6', 'class_57', 'class_49', 'class_53', 'class_36', 'class_71', 'class_60', 'class_18', 'class_26', 'class_25', 'class_64', 'class_56', 'class_22', 'class_5', 'class_35', 'class_1', 'class_21', 'class_71', 'class_54', 'class_9', 'class_53', 'class_32', 'class_57', 'class_43', 'class_18', 'class_20', 'class_20', 'class_64', 'class_38', 'class_28', 'class_51', 'class_59', 'class_55', 'class_38', 'class_1', 'class_31', 'class_45', 'class_43', 'class_15', 'class_34', 'class_56', 'class_5', 'class_25', 'class_29', 'class_60', 'class_8', 'class_14', 'class_64', 'class_3', 'class_28', 'class_13', 'class_62', 'class_42', 'class_30', 'class_7', 'class_70', 'class_62', 'class_20', 'class_26', 'class_68', 'class_2', 'class_33', 'class_9', 'class_28', 'class_34', 'class_1', 'class_62', 'class_50', 'class_41', 'class_46', 'class_8', 'class_5', 'class_55', 'class_58', 'class_15', 'class_24', 'class_29', 'class_44', 'class_13', 'class_42', 'class_52', 'class_57', 'class_30', 'class_24', 'class_49', 'class_54', 'class_3', 'class_38', 'class_50', 'class_39', 'class_12', 'class_33', 'class_48', 'class_68', 'class_15', 'class_48', 'class_56', 'class_67', 'class_68', 'class_17', 'class_2', 'class_28', 'class_4', 'class_51', 'class_38', 'class_26', 'class_44', 'class_12', 'class_7', 'class_70', 'class_59', 'class_45', 'class_46', 'class_58', 'class_5', 'class_54', 'class_61', 'class_42', 'class_44', 'class_36', 'class_5', 'class_52', 'class_54', 'class_24', 'class_18', 'class_54', 'class_11', 'class_35', 'class_8', 'class_23', 'class_60', 'class_33', 'class_21', 'class_49', 'class_42', 'class_31', 'class_61', 'class_35', 'class_13', 'class_56', 'class_70', 'class_27', 'class_21', 'class_12', 'class_24', 'class_28', 'class_47', 'class_65', 'class_15', 'class_60', 'class_17', 'class_25', 'class_4', 'class_50', 'class_42', 'class_50', 'class_54', 'class_10', 'class_47', 'class_70', 'class_32', 'class_5', 'class_59', 'class_54', 'class_63', 'class_45', 'class_68', 'class_45', 'class_18', 'class_48', 'class_52', 'class_55', 'class_25', 'class_14', 'class_7', 'class_30', 'class_45', 'class_50', 'class_55', 'class_19', 'class_46', 'class_61', 'class_43', 'class_58', 'class_20', 'class_9', 'class_54', 'class_20', 'class_61', 'class_12', 'class_16', 'class_38', 'class_41', 'class_69', 'class_26', 'class_4', 'class_70', 'class_49', 'class_70', 'class_65', 'class_62', 'class_31', 'class_41', 'class_24', 'class_19', 'class_44', 'class_14', 'class_63', 'class_53', 'class_41', 'class_70', 'class_71', 'class_52', 'class_48', 'class_12', 'class_64', 'class_62', 'class_3', 'class_49', 'class_40', 'class_45', 'class_42', 'class_18', 'class_31', 'class_29', 'class_61', 'class_55', 'class_45', 'class_43', 'class_49', 'class_10', 'class_3', 'class_57', 'class_11', 'class_53', 'class_43', 'class_6', 'class_13', 'class_26', 'class_33', 'class_23', 'class_15', 'class_40', 'class_6', 'class_34', 'class_42', 'class_26', 'class_4', 'class_44', 'class_7', 'class_16', 'class_16', 'class_46', 'class_67', 'class_52', 'class_4', 'class_58', 'class_28', 'class_2', 'class_17', 'class_51', 'class_65', 'class_39', 'class_46', 'class_5', 'class_27', 'class_29', 'class_35', 'class_61', 'class_68', 'class_64', 'class_11', 'class_36', 'class_56', 'class_27', 'class_43', 'class_13', 'class_52', 'class_33', 'class_69', 'class_8', 'class_34', 'class_2', 'class_49', 'class_14', 'class_4', 'class_53', 'class_47', 'class_2', 'class_49', 'class_13', 'class_43', 'class_2', 'class_37', 'class_67', 'class_35', 'class_59', 'class_13', 'class_47', 'class_14', 'class_43', 'class_50', 'class_65', 'class_21', 'class_39', 'class_26', 'class_64', 'class_39', 'class_11', 'class_48', 'class_52', 'class_3', 'class_41', 'class_11', 'class_37', 'class_59', 'class_67', 'class_60', 'class_34', 'class_19', 'class_22', 'class_37', 'class_63', 'class_44', 'class_44', 'class_30', 'class_9', 'class_35', 'class_71', 'class_15', 'class_1', 'class_13', 'class_57', 'class_8', 'class_70', 'class_47', 'class_25', 'class_42', 'class_30', 'class_21', 'class_33', 'class_37', 'class_53', 'class_46', 'class_18', 'class_33', 'class_16', 'class_26', 'class_51', 'class_59', 'class_8', 'class_12', 'class_71', 'class_49', 'class_64', 'class_36', 'class_49', 'class_32', 'class_58', 'class_26', 'class_48', 'class_65', 'class_63', 'class_37', 'class_59', 'class_5', 'class_43', 'class_47', 'class_54', 'class_41', 'class_4', 'class_67', 'class_56', 'class_44', 'class_63', 'class_10', 'class_18', 'class_2', 'class_64', 'class_1', 'class_1', 'class_64', 'class_40', 'class_3', 'class_43', 'class_56', 'class_10', 'class_13', 'class_10', 'class_44', 'class_67', 'class_14', 'class_53', 'class_62', 'class_18', 'class_37', 'class_67', 'class_6', 'class_45', 'class_26', 'class_58', 'class_60', 'class_58', 'class_15', 'class_39', 'class_68', 'class_46', 'class_45', 'class_13', 'class_43', 'class_19', 'class_41', 'class_38', 'class_49', 'class_68', 'class_10', 'class_33', 'class_39', 'class_55', 'class_50', 'class_5', 'class_19', 'class_49', 'class_15', 'class_17', 'class_60', 'class_36', 'class_11', 'class_9', 'class_1', 'class_24', 'class_58', 'class_29', 'class_4', 'class_11', 'class_54', 'class_54', 'class_58', 'class_9', 'class_50', 'class_12', 'class_36', 'class_26', 'class_53', 'class_26', 'class_22', 'class_61', 'class_61', 'class_48', 'class_17', 'class_8', 'class_20', 'class_39', 'class_21', 'class_68', 'class_41', 'class_60', 'class_64', 'class_7', 'class_10', 'class_29', 'class_30', 'class_22', 'class_14', 'class_39', 'class_36', 'class_22', 'class_35', 'class_36', 'class_21', 'class_55', 'class_52', 'class_14', 'class_16', 'class_5', 'class_40', 'class_2', 'class_14', 'class_45', 'class_23', 'class_29', 'class_27', 'class_46', 'class_60', 'class_56', 'class_52', 'class_56', 'class_54', 'class_47', 'class_11', 'class_29', 'class_50', 'class_10', 'class_67', 'class_27', 'class_16', 'class_16', 'class_1', 'class_63', 'class_20', 'class_40', 'class_71', 'class_69', 'class_51', 'class_65', 'class_49', 'class_55']\n"
     ]
    }
   ],
   "source": [
    "# Dự đoán trên tập test\n",
    "predictions = model.predict(test_generator)\n",
    "\n",
    "# predictions sẽ trả về xác suất của các lớp, chúng ta lấy lớp có xác suất cao nhất\n",
    "predicted_classes = predictions.argmax(axis=-1)\n",
    "\n",
    "# Lấy danh sách các lớp từ class_indices của train_generator\n",
    "class_labels = {v: k for k, v in train_generator.class_indices.items()}  # Tạo từ điển ngược\n",
    "\n",
    "# Chuyển các chỉ số predicted_classes thành nhãn lớp thực tế\n",
    "predicted_labels = [class_labels[idx] for idx in predicted_classes]\n",
    "\n",
    "# In ra nhãn lớp dự đoán\n",
    "print(predicted_labels)"
   ]
  },
  {
   "cell_type": "code",
   "execution_count": 12,
   "id": "f62862ae",
   "metadata": {
    "execution": {
     "iopub.execute_input": "2024-09-29T17:36:54.277335Z",
     "iopub.status.busy": "2024-09-29T17:36:54.276604Z",
     "iopub.status.idle": "2024-09-29T17:36:54.283935Z",
     "shell.execute_reply": "2024-09-29T17:36:54.283079Z"
    },
    "papermill": {
     "duration": 0.428575,
     "end_time": "2024-09-29T17:36:54.285954",
     "exception": false,
     "start_time": "2024-09-29T17:36:53.857379",
     "status": "completed"
    },
    "tags": []
   },
   "outputs": [
    {
     "data": {
      "text/plain": [
       "array([[1.1493662e-06, 2.2912698e-06, 2.1052058e-06, ..., 7.8276798e-07,\n",
       "        9.8487567e-07, 2.6779574e-07],\n",
       "       [3.7151341e-07, 1.4672413e-06, 9.2880975e-07, ..., 2.2765326e-07,\n",
       "        7.0212548e-07, 1.2795157e-07],\n",
       "       [1.6508405e-06, 2.1041919e-02, 2.9356241e-05, ..., 3.7742970e-07,\n",
       "        2.0762059e-06, 6.4028964e-06],\n",
       "       ...,\n",
       "       [1.2748184e-07, 6.9448140e-07, 2.9574881e-07, ..., 3.8262303e-07,\n",
       "        3.3376156e-07, 2.8505062e-06],\n",
       "       [1.7182088e-05, 1.3007189e-05, 1.8141569e-05, ..., 1.6042851e-06,\n",
       "        4.5576653e-06, 1.6028989e-05],\n",
       "       [9.7935481e-07, 6.4059036e-06, 3.8932723e-07, ..., 3.2690414e-07,\n",
       "        1.7316637e-05, 1.8626588e-06]], dtype=float32)"
      ]
     },
     "execution_count": 12,
     "metadata": {},
     "output_type": "execute_result"
    }
   ],
   "source": [
    "predictions"
   ]
  },
  {
   "cell_type": "code",
   "execution_count": 13,
   "id": "c31ed45b",
   "metadata": {
    "execution": {
     "iopub.execute_input": "2024-09-29T17:36:55.131516Z",
     "iopub.status.busy": "2024-09-29T17:36:55.131122Z",
     "iopub.status.idle": "2024-09-29T17:36:55.146383Z",
     "shell.execute_reply": "2024-09-29T17:36:55.145440Z"
    },
    "papermill": {
     "duration": 0.438807,
     "end_time": "2024-09-29T17:36:55.148376",
     "exception": false,
     "start_time": "2024-09-29T17:36:54.709569",
     "status": "completed"
    },
    "tags": []
   },
   "outputs": [
    {
     "data": {
      "text/html": [
       "<div>\n",
       "<style scoped>\n",
       "    .dataframe tbody tr th:only-of-type {\n",
       "        vertical-align: middle;\n",
       "    }\n",
       "\n",
       "    .dataframe tbody tr th {\n",
       "        vertical-align: top;\n",
       "    }\n",
       "\n",
       "    .dataframe thead th {\n",
       "        text-align: right;\n",
       "    }\n",
       "</style>\n",
       "<table border=\"1\" class=\"dataframe\">\n",
       "  <thead>\n",
       "    <tr style=\"text-align: right;\">\n",
       "      <th></th>\n",
       "      <th>ID</th>\n",
       "      <th>TARGET</th>\n",
       "    </tr>\n",
       "  </thead>\n",
       "  <tbody>\n",
       "    <tr>\n",
       "      <th>0</th>\n",
       "      <td>0</td>\n",
       "      <td>class_58</td>\n",
       "    </tr>\n",
       "    <tr>\n",
       "      <th>1</th>\n",
       "      <td>1</td>\n",
       "      <td>class_58</td>\n",
       "    </tr>\n",
       "    <tr>\n",
       "      <th>2</th>\n",
       "      <td>2</td>\n",
       "      <td>class_7</td>\n",
       "    </tr>\n",
       "    <tr>\n",
       "      <th>3</th>\n",
       "      <td>3</td>\n",
       "      <td>class_17</td>\n",
       "    </tr>\n",
       "    <tr>\n",
       "      <th>4</th>\n",
       "      <td>4</td>\n",
       "      <td>class_71</td>\n",
       "    </tr>\n",
       "  </tbody>\n",
       "</table>\n",
       "</div>"
      ],
      "text/plain": [
       "   ID    TARGET\n",
       "0   0  class_58\n",
       "1   1  class_58\n",
       "2   2   class_7\n",
       "3   3  class_17\n",
       "4   4  class_71"
      ]
     },
     "execution_count": 13,
     "metadata": {},
     "output_type": "execute_result"
    }
   ],
   "source": [
    "test_df['TARGET'] = predicted_labels\n",
    "test_df = test_df.drop(columns=['filepaths'])\n",
    "# test_df['TARGET'] = 'class_' + test_df['TARGET'].astype(str)\n",
    "test_df.head()"
   ]
  },
  {
   "cell_type": "code",
   "execution_count": 14,
   "id": "d4643742",
   "metadata": {
    "execution": {
     "iopub.execute_input": "2024-09-29T17:36:56.023744Z",
     "iopub.status.busy": "2024-09-29T17:36:56.023362Z",
     "iopub.status.idle": "2024-09-29T17:36:56.035255Z",
     "shell.execute_reply": "2024-09-29T17:36:56.034327Z"
    },
    "papermill": {
     "duration": 0.432974,
     "end_time": "2024-09-29T17:36:56.037008",
     "exception": false,
     "start_time": "2024-09-29T17:36:55.604034",
     "status": "completed"
    },
    "tags": []
   },
   "outputs": [
    {
     "data": {
      "text/html": [
       "<a href=MultiLP_hybrid_v7.csv>Download CSV file</a>"
      ],
      "text/plain": [
       "<IPython.core.display.HTML object>"
      ]
     },
     "execution_count": 14,
     "metadata": {},
     "output_type": "execute_result"
    }
   ],
   "source": [
    "from IPython.display import HTML\n",
    "test_df.to_csv('MultiLP_hybrid_v7.csv', index=False)\n",
    "def create_download_link(title = \"Download CSV file\", filename = \"data.csv\"):  \n",
    "    html = '<a href={filename}>{title}</a>'\n",
    "    html = html.format(title=title,filename=filename)\n",
    "    return HTML(html)\n",
    "\n",
    "# create a link to download the dataframe which was saved with .to_csv method\n",
    "create_download_link(filename='MultiLP_hybrid_v7.csv')"
   ]
  },
  {
   "cell_type": "code",
   "execution_count": 15,
   "id": "93e01cf6",
   "metadata": {
    "execution": {
     "iopub.execute_input": "2024-09-29T17:36:56.876609Z",
     "iopub.status.busy": "2024-09-29T17:36:56.876225Z",
     "iopub.status.idle": "2024-09-29T17:36:56.883832Z",
     "shell.execute_reply": "2024-09-29T17:36:56.883020Z"
    },
    "papermill": {
     "duration": 0.432014,
     "end_time": "2024-09-29T17:36:56.885780",
     "exception": false,
     "start_time": "2024-09-29T17:36:56.453766",
     "status": "completed"
    },
    "tags": []
   },
   "outputs": [
    {
     "data": {
      "text/plain": [
       "accuracy        0.972152\n",
       "val_accuracy    0.932076\n",
       "Name: 12, dtype: float64"
      ]
     },
     "execution_count": 15,
     "metadata": {},
     "output_type": "execute_result"
    }
   ],
   "source": [
    "accuracy.iloc[-1]"
   ]
  }
 ],
 "metadata": {
  "kaggle": {
   "accelerator": "gpu",
   "dataSources": [
    {
     "databundleVersionId": 9605463,
     "sourceId": 85201,
     "sourceType": "competition"
    }
   ],
   "dockerImageVersionId": 30776,
   "isGpuEnabled": true,
   "isInternetEnabled": true,
   "language": "python",
   "sourceType": "notebook"
  },
  "kernelspec": {
   "display_name": "Python 3",
   "language": "python",
   "name": "python3"
  },
  "language_info": {
   "codemirror_mode": {
    "name": "ipython",
    "version": 3
   },
   "file_extension": ".py",
   "mimetype": "text/x-python",
   "name": "python",
   "nbconvert_exporter": "python",
   "pygments_lexer": "ipython3",
   "version": "3.10.14"
  },
  "papermill": {
   "default_parameters": {},
   "duration": 2434.939773,
   "end_time": "2024-09-29T17:37:00.766325",
   "environment_variables": {},
   "exception": null,
   "input_path": "__notebook__.ipynb",
   "output_path": "__notebook__.ipynb",
   "parameters": {},
   "start_time": "2024-09-29T16:56:25.826552",
   "version": "2.6.0"
  }
 },
 "nbformat": 4,
 "nbformat_minor": 5
}
